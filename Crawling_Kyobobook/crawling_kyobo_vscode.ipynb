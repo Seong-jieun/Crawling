{
 "cells": [
  {
   "cell_type": "markdown",
   "metadata": {},
   "source": [
    "# 개요"
   ]
  },
  {
   "cell_type": "markdown",
   "metadata": {},
   "source": [
    "- 크롤링 할 페이지\n",
    "    - 교보문고 > 국내도서 > 소설 > 한국소설 > 베스트셀러\n",
    "    - https://product.kyobobook.co.kr/category/KOR/0101#?page=1&type=best&per=20\n",
    "- 크롤링 할 데이터\n",
    "    - 책코드, 제목, 작가, 책소개, 리뷰별점\n",
    "- 2025.02.26 기준\n",
    "- 참고자료\n",
    "    - https://sol-aftercoding.tistory.com/entry/Python-%EA%B5%90%EB%B3%B4-%EB%AC%B8%EA%B3%A0-%ED%81%AC%EB%A1%A4%EB%A7%81-%ED%95%98%EA%B8%B0-with-Selenium-BeautifulSoup?category=1098008\n",
    "    - https://xl-shine.tistory.com/44"
   ]
  },
  {
   "cell_type": "markdown",
   "metadata": {},
   "source": [
    "# 라이브러리 설치"
   ]
  },
  {
   "cell_type": "code",
   "execution_count": 1,
   "metadata": {},
   "outputs": [
    {
     "name": "stdout",
     "output_type": "stream",
     "text": [
      "Defaulting to user installation because normal site-packages is not writeable\n",
      "Requirement already satisfied: selenium in c:\\users\\지은\\appdata\\local\\packages\\pythonsoftwarefoundation.python.3.12_qbz5n2kfra8p0\\localcache\\local-packages\\python312\\site-packages (4.29.0)\n",
      "Requirement already satisfied: pandas in c:\\users\\지은\\appdata\\local\\packages\\pythonsoftwarefoundation.python.3.12_qbz5n2kfra8p0\\localcache\\local-packages\\python312\\site-packages (2.2.3)\n",
      "Requirement already satisfied: urllib3<3,>=1.26 in c:\\users\\지은\\appdata\\local\\packages\\pythonsoftwarefoundation.python.3.12_qbz5n2kfra8p0\\localcache\\local-packages\\python312\\site-packages (from urllib3[socks]<3,>=1.26->selenium) (2.3.0)\n",
      "Requirement already satisfied: trio~=0.17 in c:\\users\\지은\\appdata\\local\\packages\\pythonsoftwarefoundation.python.3.12_qbz5n2kfra8p0\\localcache\\local-packages\\python312\\site-packages (from selenium) (0.29.0)\n",
      "Requirement already satisfied: trio-websocket~=0.9 in c:\\users\\지은\\appdata\\local\\packages\\pythonsoftwarefoundation.python.3.12_qbz5n2kfra8p0\\localcache\\local-packages\\python312\\site-packages (from selenium) (0.12.2)\n",
      "Requirement already satisfied: certifi>=2021.10.8 in c:\\users\\지은\\appdata\\local\\packages\\pythonsoftwarefoundation.python.3.12_qbz5n2kfra8p0\\localcache\\local-packages\\python312\\site-packages (from selenium) (2025.1.31)\n",
      "Requirement already satisfied: typing_extensions~=4.9 in c:\\users\\지은\\appdata\\local\\packages\\pythonsoftwarefoundation.python.3.12_qbz5n2kfra8p0\\localcache\\local-packages\\python312\\site-packages (from selenium) (4.12.2)\n",
      "Requirement already satisfied: websocket-client~=1.8 in c:\\users\\지은\\appdata\\local\\packages\\pythonsoftwarefoundation.python.3.12_qbz5n2kfra8p0\\localcache\\local-packages\\python312\\site-packages (from selenium) (1.8.0)\n",
      "Requirement already satisfied: numpy>=1.26.0 in c:\\users\\지은\\appdata\\local\\packages\\pythonsoftwarefoundation.python.3.12_qbz5n2kfra8p0\\localcache\\local-packages\\python312\\site-packages (from pandas) (2.2.3)\n",
      "Requirement already satisfied: python-dateutil>=2.8.2 in c:\\users\\지은\\appdata\\local\\packages\\pythonsoftwarefoundation.python.3.12_qbz5n2kfra8p0\\localcache\\local-packages\\python312\\site-packages (from pandas) (2.9.0.post0)\n",
      "Requirement already satisfied: pytz>=2020.1 in c:\\users\\지은\\appdata\\local\\packages\\pythonsoftwarefoundation.python.3.12_qbz5n2kfra8p0\\localcache\\local-packages\\python312\\site-packages (from pandas) (2025.1)\n",
      "Requirement already satisfied: tzdata>=2022.7 in c:\\users\\지은\\appdata\\local\\packages\\pythonsoftwarefoundation.python.3.12_qbz5n2kfra8p0\\localcache\\local-packages\\python312\\site-packages (from pandas) (2025.1)\n",
      "Requirement already satisfied: six>=1.5 in c:\\users\\지은\\appdata\\local\\packages\\pythonsoftwarefoundation.python.3.12_qbz5n2kfra8p0\\localcache\\local-packages\\python312\\site-packages (from python-dateutil>=2.8.2->pandas) (1.17.0)\n",
      "Requirement already satisfied: attrs>=23.2.0 in c:\\users\\지은\\appdata\\local\\packages\\pythonsoftwarefoundation.python.3.12_qbz5n2kfra8p0\\localcache\\local-packages\\python312\\site-packages (from trio~=0.17->selenium) (25.1.0)\n",
      "Requirement already satisfied: sortedcontainers in c:\\users\\지은\\appdata\\local\\packages\\pythonsoftwarefoundation.python.3.12_qbz5n2kfra8p0\\localcache\\local-packages\\python312\\site-packages (from trio~=0.17->selenium) (2.4.0)\n",
      "Requirement already satisfied: idna in c:\\users\\지은\\appdata\\local\\packages\\pythonsoftwarefoundation.python.3.12_qbz5n2kfra8p0\\localcache\\local-packages\\python312\\site-packages (from trio~=0.17->selenium) (3.10)\n",
      "Requirement already satisfied: outcome in c:\\users\\지은\\appdata\\local\\packages\\pythonsoftwarefoundation.python.3.12_qbz5n2kfra8p0\\localcache\\local-packages\\python312\\site-packages (from trio~=0.17->selenium) (1.3.0.post0)\n",
      "Requirement already satisfied: sniffio>=1.3.0 in c:\\users\\지은\\appdata\\local\\packages\\pythonsoftwarefoundation.python.3.12_qbz5n2kfra8p0\\localcache\\local-packages\\python312\\site-packages (from trio~=0.17->selenium) (1.3.1)\n",
      "Requirement already satisfied: cffi>=1.14 in c:\\users\\지은\\appdata\\local\\packages\\pythonsoftwarefoundation.python.3.12_qbz5n2kfra8p0\\localcache\\local-packages\\python312\\site-packages (from trio~=0.17->selenium) (1.17.1)\n",
      "Requirement already satisfied: wsproto>=0.14 in c:\\users\\지은\\appdata\\local\\packages\\pythonsoftwarefoundation.python.3.12_qbz5n2kfra8p0\\localcache\\local-packages\\python312\\site-packages (from trio-websocket~=0.9->selenium) (1.2.0)\n",
      "Requirement already satisfied: pysocks!=1.5.7,<2.0,>=1.5.6 in c:\\users\\지은\\appdata\\local\\packages\\pythonsoftwarefoundation.python.3.12_qbz5n2kfra8p0\\localcache\\local-packages\\python312\\site-packages (from urllib3[socks]<3,>=1.26->selenium) (1.7.1)\n",
      "Requirement already satisfied: pycparser in c:\\users\\지은\\appdata\\local\\packages\\pythonsoftwarefoundation.python.3.12_qbz5n2kfra8p0\\localcache\\local-packages\\python312\\site-packages (from cffi>=1.14->trio~=0.17->selenium) (2.22)\n",
      "Requirement already satisfied: h11<1,>=0.9.0 in c:\\users\\지은\\appdata\\local\\packages\\pythonsoftwarefoundation.python.3.12_qbz5n2kfra8p0\\localcache\\local-packages\\python312\\site-packages (from wsproto>=0.14->trio-websocket~=0.9->selenium) (0.14.0)\n",
      "Note: you may need to restart the kernel to use updated packages.\n"
     ]
    },
    {
     "name": "stderr",
     "output_type": "stream",
     "text": [
      "\n",
      "[notice] A new release of pip is available: 24.3.1 -> 25.0.1\n",
      "[notice] To update, run: C:\\Users\\지은\\AppData\\Local\\Microsoft\\WindowsApps\\PythonSoftwareFoundation.Python.3.12_qbz5n2kfra8p0\\python.exe -m pip install --upgrade pip\n"
     ]
    }
   ],
   "source": [
    "pip install selenium pandas"
   ]
  },
  {
   "cell_type": "code",
   "execution_count": 9,
   "metadata": {},
   "outputs": [
    {
     "name": "stdout",
     "output_type": "stream",
     "text": [
      "Defaulting to user installation because normal site-packages is not writeableNote: you may need to restart the kernel to use updated packages.\n",
      "\n",
      "Requirement already satisfied: beautifulsoup4 in c:\\users\\지은\\appdata\\local\\packages\\pythonsoftwarefoundation.python.3.12_qbz5n2kfra8p0\\localcache\\local-packages\\python312\\site-packages (4.13.3)\n",
      "Requirement already satisfied: soupsieve>1.2 in c:\\users\\지은\\appdata\\local\\packages\\pythonsoftwarefoundation.python.3.12_qbz5n2kfra8p0\\localcache\\local-packages\\python312\\site-packages (from beautifulsoup4) (2.6)\n",
      "Requirement already satisfied: typing-extensions>=4.0.0 in c:\\users\\지은\\appdata\\local\\packages\\pythonsoftwarefoundation.python.3.12_qbz5n2kfra8p0\\localcache\\local-packages\\python312\\site-packages (from beautifulsoup4) (4.12.2)\n"
     ]
    },
    {
     "name": "stderr",
     "output_type": "stream",
     "text": [
      "\n",
      "[notice] A new release of pip is available: 24.3.1 -> 25.0.1\n",
      "[notice] To update, run: C:\\Users\\지은\\AppData\\Local\\Microsoft\\WindowsApps\\PythonSoftwareFoundation.Python.3.12_qbz5n2kfra8p0\\python.exe -m pip install --upgrade pip\n"
     ]
    }
   ],
   "source": [
    "pip install beautifulsoup4"
   ]
  },
  {
   "cell_type": "code",
   "execution_count": 10,
   "metadata": {},
   "outputs": [],
   "source": [
    "from selenium import webdriver\n",
    "from selenium.webdriver.chrome.service import Service\n",
    "from selenium.webdriver.common.by import By\n",
    "from bs4 import BeautifulSoup\n",
    "import time\n",
    "import pandas as pd"
   ]
  },
  {
   "cell_type": "markdown",
   "metadata": {},
   "source": [
    "# 크롤링"
   ]
  },
  {
   "cell_type": "code",
   "execution_count": 13,
   "metadata": {},
   "outputs": [
    {
     "name": "stderr",
     "output_type": "stream",
     "text": [
      "<>:2: SyntaxWarning: invalid escape sequence '\\P'\n",
      "<>:2: SyntaxWarning: invalid escape sequence '\\P'\n",
      "C:\\Users\\지은\\AppData\\Local\\Temp\\ipykernel_1808\\2427472624.py:2: SyntaxWarning: invalid escape sequence '\\P'\n",
      "  driver_path = 'C:\\Program Files (x86)\\Google\\chromedriver-win64\\chromedriver-win64\\chromedriver.exe'\n"
     ]
    }
   ],
   "source": [
    "# ChromeDriver 경로 지정\n",
    "driver_path = 'C:\\Program Files (x86)\\Google\\chromedriver-win64\\chromedriver-win64\\chromedriver.exe'\n",
    "\n",
    "# Service 객체 생성\n",
    "service = Service(driver_path)\n",
    "\n",
    "# 웹드라이버 실행\n",
    "driver = webdriver.Chrome(service=service)\n",
    "\n",
    "# 교보문고 접속\n",
    "url = f\"https://product.kyobobook.co.kr/category/KOR/0101#?page=1&type=best&per=20\"\n",
    "driver.get(url)\n",
    "\n",
    "time.sleep(5)"
   ]
  },
  {
   "cell_type": "code",
   "execution_count": 14,
   "metadata": {},
   "outputs": [],
   "source": [
    "# 페이지의 HTML 가져오기\n",
    "html = driver.page_source\n",
    "soup = BeautifulSoup(html, 'html.parser')"
   ]
  },
  {
   "cell_type": "markdown",
   "metadata": {},
   "source": [
    "## 데이터 추출"
   ]
  },
  {
   "cell_type": "code",
   "execution_count": 16,
   "metadata": {},
   "outputs": [],
   "source": [
    "# li 태그 모두 가져오기\n",
    "items = soup.select('.prod_item')\n",
    "\n",
    "# 크롤링 해 온 데이터를 담을 배열\n",
    "data = []\n",
    "\n",
    "# 각 li 태그에서 책 정보 가져오기\n",
    "for item in items:\n",
    "\n",
    "    # 책번호\n",
    "    link_number = item.find('a', class_=\"prod_link\")['href'].split(\"/\")[-1].strip()\n",
    "    # 제목\n",
    "    title = item.find('span', class_=\"prod_name\").get_text(strip=True)\n",
    "    # 작가\n",
    "    author = item.find('span', class_=\"prod_author\").find('a').text.strip()\n",
    "    # 책소개\n",
    "    introduction = item.select_one('.prod_introduction').text.strip()\n",
    "    # 리뷰\n",
    "    review = item.select_one('.review_klover_text').text.strip()\n",
    "\n",
    "    data.append((link_number, title, author, introduction, review))"
   ]
  },
  {
   "cell_type": "code",
   "execution_count": null,
   "metadata": {},
   "outputs": [
    {
     "data": {
      "text/html": [
       "<div>\n",
       "<style scoped>\n",
       "    .dataframe tbody tr th:only-of-type {\n",
       "        vertical-align: middle;\n",
       "    }\n",
       "\n",
       "    .dataframe tbody tr th {\n",
       "        vertical-align: top;\n",
       "    }\n",
       "\n",
       "    .dataframe thead th {\n",
       "        text-align: right;\n",
       "    }\n",
       "</style>\n",
       "<table border=\"1\" class=\"dataframe\">\n",
       "  <thead>\n",
       "    <tr style=\"text-align: right;\">\n",
       "      <th></th>\n",
       "      <th>Number</th>\n",
       "      <th>Title</th>\n",
       "      <th>Author</th>\n",
       "      <th>Introduction</th>\n",
       "      <th>Review</th>\n",
       "    </tr>\n",
       "  </thead>\n",
       "  <tbody>\n",
       "    <tr>\n",
       "      <th>0</th>\n",
       "      <td>S000000610612</td>\n",
       "      <td>소년이 온다</td>\n",
       "      <td>한강</td>\n",
       "      <td>2014년 만해문학상, 2017년 이탈리아 말라파르테 문학상을 수상하고 전세계 20...</td>\n",
       "      <td>9.79</td>\n",
       "    </tr>\n",
       "    <tr>\n",
       "      <th>1</th>\n",
       "      <td>S000001632467</td>\n",
       "      <td>모순</td>\n",
       "      <td>양귀자</td>\n",
       "      <td>양귀자 소설의 힘을 보여준 베스트셀러 『모순』. 1998년에 초판이 출간된 이후 1...</td>\n",
       "      <td>9.8</td>\n",
       "    </tr>\n",
       "    <tr>\n",
       "      <th>2</th>\n",
       "      <td>S000200550189</td>\n",
       "      <td>급류</td>\n",
       "      <td>정대건</td>\n",
       "      <td>2020년 《한경신춘문예》에 장편소설 『GV 빌런 고태경』이 당선되어 작품 활동을 ...</td>\n",
       "      <td>9.45</td>\n",
       "    </tr>\n",
       "    <tr>\n",
       "      <th>3</th>\n",
       "      <td>S000000610650</td>\n",
       "      <td>채식주의자</td>\n",
       "      <td>한강</td>\n",
       "      <td>2016년 인터내셔널 부커상을 수상하며 한국문학의 입지를 한단계 확장시킨 한강의 장...</td>\n",
       "      <td>9.55</td>\n",
       "    </tr>\n",
       "    <tr>\n",
       "      <th>4</th>\n",
       "      <td>S000000781116</td>\n",
       "      <td>작별하지 않는다</td>\n",
       "      <td>한강</td>\n",
       "      <td>2016년 『채식주의자』로 인터내셔널 부커상을 수상하고 2018년 『흰』으로 같은 ...</td>\n",
       "      <td>9.71</td>\n",
       "    </tr>\n",
       "    <tr>\n",
       "      <th>5</th>\n",
       "      <td>S000215787788</td>\n",
       "      <td>그 개와 혁명(제 48회 이상문학상 작품집 2025년)</td>\n",
       "      <td>예소연 외</td>\n",
       "      <td>제48회 이상문학상 대상에 예소연의 「그 개와 혁명」이 선정되었다. 1980년대 학...</td>\n",
       "      <td>9.69</td>\n",
       "    </tr>\n",
       "    <tr>\n",
       "      <th>6</th>\n",
       "      <td>S000001632473</td>\n",
       "      <td>나는 소망한다 내게 금지된 것을</td>\n",
       "      <td>양귀자</td>\n",
       "      <td>1992년 초판이 나오자마자 페미니즘 논란과 함께 화제의 중심에 오른 양귀자의 장편...</td>\n",
       "      <td>9.84</td>\n",
       "    </tr>\n",
       "    <tr>\n",
       "      <th>7</th>\n",
       "      <td>S000000780090</td>\n",
       "      <td>흰</td>\n",
       "      <td>한강</td>\n",
       "      <td>한국인 최초 맨부커상 수상 작가 한강의 소설 『흰』. 2018년 맨부커 인터네셔널 ...</td>\n",
       "      <td>9.67</td>\n",
       "    </tr>\n",
       "    <tr>\n",
       "      <th>8</th>\n",
       "      <td>S000215527726</td>\n",
       "      <td>너의 유토피아</td>\n",
       "      <td>정보라</td>\n",
       "      <td>부커상과 전미도서상 최종 후보로 선정되었던 정보라의 두 번째 소설집 《너의 유토피아...</td>\n",
       "      <td>9.73</td>\n",
       "    </tr>\n",
       "    <tr>\n",
       "      <th>9</th>\n",
       "      <td>S000000778206</td>\n",
       "      <td>희랍어 시간</td>\n",
       "      <td>한강</td>\n",
       "      <td>한국인 최초 맨부커상 수상 작가 한강의 장편소설 『희랍어 시간』. 말을 잃어가는 한...</td>\n",
       "      <td>9.67</td>\n",
       "    </tr>\n",
       "    <tr>\n",
       "      <th>10</th>\n",
       "      <td>S000000781065</td>\n",
       "      <td>홍학의 자리</td>\n",
       "      <td>정해연</td>\n",
       "      <td>10년 가까이 스릴러 장르에 매진하며 장편 단편 할 것 없이 독자들의 눈길을 사로잡...</td>\n",
       "      <td>9.49</td>\n",
       "    </tr>\n",
       "    <tr>\n",
       "      <th>11</th>\n",
       "      <td>S000213184567</td>\n",
       "      <td>두 사람의 인터내셔널</td>\n",
       "      <td>김기태</td>\n",
       "      <td>2020년대의 한국문학을 밝힌 신성新星으로 김기태를 논하지 않을 수 있을까. 202...</td>\n",
       "      <td>9.42</td>\n",
       "    </tr>\n",
       "    <tr>\n",
       "      <th>12</th>\n",
       "      <td>S000214032055</td>\n",
       "      <td>이중 하나는 거짓말</td>\n",
       "      <td>김애란</td>\n",
       "      <td>한국문학의 결정적 순간을 만들어온 김애란의 신작 장편소설 『이중 하나는 거짓말』이 ...</td>\n",
       "      <td>9.57</td>\n",
       "    </tr>\n",
       "    <tr>\n",
       "      <th>13</th>\n",
       "      <td>S000214308609</td>\n",
       "      <td>대온실 수리 보고서</td>\n",
       "      <td>김금희</td>\n",
       "      <td>마음에 이는 무늬를 섬세하게 수놓으며 이야기의 아름다움을 증명해온 소설가 김금희가 ...</td>\n",
       "      <td>9.59</td>\n",
       "    </tr>\n",
       "    <tr>\n",
       "      <th>14</th>\n",
       "      <td>S000201621499</td>\n",
       "      <td>구의 증명</td>\n",
       "      <td>최진영</td>\n",
       "      <td>사랑 후 남겨진 것들에 관한 숭고할 만큼 아름다운 이야기\\n\\n최진영 소설 《구의 ...</td>\n",
       "      <td>9.43</td>\n",
       "    </tr>\n",
       "    <tr>\n",
       "      <th>15</th>\n",
       "      <td>S000001808685</td>\n",
       "      <td>파과</td>\n",
       "      <td>구병모</td>\n",
       "      <td>한국 소설에 가장 강렬하게 새겨질 새로운 여성 서사를 탄생시킨 구병모 작가의 《파과...</td>\n",
       "      <td>9.69</td>\n",
       "    </tr>\n",
       "    <tr>\n",
       "      <th>16</th>\n",
       "      <td>S000214717572</td>\n",
       "      <td>비눗방울 퐁</td>\n",
       "      <td>이유리</td>\n",
       "      <td>소설집 『브로콜리 펀치』, 『모든 것들의 세계』, 연작소설 『좋은 곳에서 만나요』 ...</td>\n",
       "      <td>9.48</td>\n",
       "    </tr>\n",
       "    <tr>\n",
       "      <th>17</th>\n",
       "      <td>S000215562433</td>\n",
       "      <td>설자은, 불꽃을 쫓다</td>\n",
       "      <td>정세랑</td>\n",
       "      <td>언제나 우리에게 놀라운 재미와 따뜻한 감동을 동시에 전해주는 작가, 정세랑이 선보이...</td>\n",
       "      <td>9.94</td>\n",
       "    </tr>\n",
       "    <tr>\n",
       "      <th>18</th>\n",
       "      <td>S000000828491</td>\n",
       "      <td>종의 기원</td>\n",
       "      <td>정유정</td>\n",
       "      <td>펴내는 작품마다 압도적인 서사와 폭발적인 이야기의 힘으로 많은 독자들의 뜨거운 사랑...</td>\n",
       "      <td>9.36</td>\n",
       "    </tr>\n",
       "    <tr>\n",
       "      <th>19</th>\n",
       "      <td>S000215692224</td>\n",
       "      <td>영원에 빚을 져서</td>\n",
       "      <td>예소연</td>\n",
       "      <td>당대 한국 문학의 가장 현대적이면서도 첨예한 작가들을 선정, 신작 시와 소설을 수록...</td>\n",
       "      <td>10</td>\n",
       "    </tr>\n",
       "  </tbody>\n",
       "</table>\n",
       "</div>"
      ],
      "text/plain": [
       "           Number                           Title Author  \\\n",
       "0   S000000610612                          소년이 온다     한강   \n",
       "1   S000001632467                              모순    양귀자   \n",
       "2   S000200550189                              급류    정대건   \n",
       "3   S000000610650                           채식주의자     한강   \n",
       "4   S000000781116                        작별하지 않는다     한강   \n",
       "5   S000215787788  그 개와 혁명(제 48회 이상문학상 작품집 2025년)  예소연 외   \n",
       "6   S000001632473               나는 소망한다 내게 금지된 것을    양귀자   \n",
       "7   S000000780090                               흰     한강   \n",
       "8   S000215527726                         너의 유토피아    정보라   \n",
       "9   S000000778206                          희랍어 시간     한강   \n",
       "10  S000000781065                          홍학의 자리    정해연   \n",
       "11  S000213184567                     두 사람의 인터내셔널    김기태   \n",
       "12  S000214032055                      이중 하나는 거짓말    김애란   \n",
       "13  S000214308609                      대온실 수리 보고서    김금희   \n",
       "14  S000201621499                           구의 증명    최진영   \n",
       "15  S000001808685                              파과    구병모   \n",
       "16  S000214717572                          비눗방울 퐁    이유리   \n",
       "17  S000215562433                     설자은, 불꽃을 쫓다    정세랑   \n",
       "18  S000000828491                           종의 기원    정유정   \n",
       "19  S000215692224                       영원에 빚을 져서    예소연   \n",
       "\n",
       "                                         Introduction Review  \n",
       "0   2014년 만해문학상, 2017년 이탈리아 말라파르테 문학상을 수상하고 전세계 20...   9.79  \n",
       "1   양귀자 소설의 힘을 보여준 베스트셀러 『모순』. 1998년에 초판이 출간된 이후 1...    9.8  \n",
       "2   2020년 《한경신춘문예》에 장편소설 『GV 빌런 고태경』이 당선되어 작품 활동을 ...   9.45  \n",
       "3   2016년 인터내셔널 부커상을 수상하며 한국문학의 입지를 한단계 확장시킨 한강의 장...   9.55  \n",
       "4   2016년 『채식주의자』로 인터내셔널 부커상을 수상하고 2018년 『흰』으로 같은 ...   9.71  \n",
       "5   제48회 이상문학상 대상에 예소연의 「그 개와 혁명」이 선정되었다. 1980년대 학...   9.69  \n",
       "6   1992년 초판이 나오자마자 페미니즘 논란과 함께 화제의 중심에 오른 양귀자의 장편...   9.84  \n",
       "7   한국인 최초 맨부커상 수상 작가 한강의 소설 『흰』. 2018년 맨부커 인터네셔널 ...   9.67  \n",
       "8   부커상과 전미도서상 최종 후보로 선정되었던 정보라의 두 번째 소설집 《너의 유토피아...   9.73  \n",
       "9   한국인 최초 맨부커상 수상 작가 한강의 장편소설 『희랍어 시간』. 말을 잃어가는 한...   9.67  \n",
       "10  10년 가까이 스릴러 장르에 매진하며 장편 단편 할 것 없이 독자들의 눈길을 사로잡...   9.49  \n",
       "11  2020년대의 한국문학을 밝힌 신성新星으로 김기태를 논하지 않을 수 있을까. 202...   9.42  \n",
       "12  한국문학의 결정적 순간을 만들어온 김애란의 신작 장편소설 『이중 하나는 거짓말』이 ...   9.57  \n",
       "13  마음에 이는 무늬를 섬세하게 수놓으며 이야기의 아름다움을 증명해온 소설가 김금희가 ...   9.59  \n",
       "14  사랑 후 남겨진 것들에 관한 숭고할 만큼 아름다운 이야기\\n\\n최진영 소설 《구의 ...   9.43  \n",
       "15  한국 소설에 가장 강렬하게 새겨질 새로운 여성 서사를 탄생시킨 구병모 작가의 《파과...   9.69  \n",
       "16  소설집 『브로콜리 펀치』, 『모든 것들의 세계』, 연작소설 『좋은 곳에서 만나요』 ...   9.48  \n",
       "17  언제나 우리에게 놀라운 재미와 따뜻한 감동을 동시에 전해주는 작가, 정세랑이 선보이...   9.94  \n",
       "18  펴내는 작품마다 압도적인 서사와 폭발적인 이야기의 힘으로 많은 독자들의 뜨거운 사랑...   9.36  \n",
       "19  당대 한국 문학의 가장 현대적이면서도 첨예한 작가들을 선정, 신작 시와 소설을 수록...     10  "
      ]
     },
     "execution_count": 17,
     "metadata": {},
     "output_type": "execute_result"
    }
   ],
   "source": [
    "# 데이터프레임에 담기\n",
    "df = pd.DataFrame(data, columns=['Number', 'Title', 'Author', 'Introduction', 'Review'])\n",
    "df"
   ]
  },
  {
   "cell_type": "code",
   "execution_count": null,
   "metadata": {},
   "outputs": [],
   "source": [
    "# 드라이버 종료\n",
    "driver.quit()"
   ]
  }
 ],
 "metadata": {
  "kernelspec": {
   "display_name": "Python 3",
   "language": "python",
   "name": "python3"
  },
  "language_info": {
   "codemirror_mode": {
    "name": "ipython",
    "version": 3
   },
   "file_extension": ".py",
   "mimetype": "text/x-python",
   "name": "python",
   "nbconvert_exporter": "python",
   "pygments_lexer": "ipython3",
   "version": "3.12.9"
  }
 },
 "nbformat": 4,
 "nbformat_minor": 2
}
